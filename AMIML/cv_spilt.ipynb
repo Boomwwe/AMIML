{
 "cells": [
  {
   "cell_type": "code",
   "execution_count": null,
   "outputs": [],
   "source": [
    "import os,random\n",
    "import numpy as np\n",
    "import pickle\n",
    "import pandas as pd\n",
    "from sklearn.model_selection import KFold,train_test_split\n",
    "random.seed(12345)\n",
    "rare_gene = gene_rank\n",
    "for t_gene in rare_gene:\n",
    "    mutation_label = pd.read_csv(\"/data/gbw/Gene_Mut/\"+file+\"/TCGA/CLUSTER1/\"+t_gene+\"/tcga_\"+t_gene+\"_\"+file+\"_mutation_with_label.csv\")\n",
    "    mut=mutation_label[mutation_label[t_gene]==1][\"Unnamed: 0\"].tolist()\n",
    "    no_mut=mutation_label[mutation_label[t_gene]==0][\"Unnamed: 0\"].tolist()\n",
    "    print(t_gene)\n",
    "    print(len(mut))\n",
    "    random.shuffle(mut)\n",
    "    random.shuffle(no_mut)\n",
    "    cv_splits={}\n",
    "    dataindex1=list(range(len(no_mut)))\n",
    "    dataindex2=list(range(len(mut)))\n",
    "    for i,(train_index, test_index) in enumerate(KFold(n_splits=5, shuffle=True, random_state=12345).split(dataindex1)):\n",
    "        train_idx,val_idx=train_test_split(train_index,train_size=0.75)\n",
    "        cv_splits[i]=dict(train_set=[no_mut[j] for j in train_idx])\n",
    "        cv_splits[i]['val_set']=[no_mut[j] for j in val_idx]\n",
    "        cv_splits[i]['test_set']=[no_mut[j] for j in test_index]\n",
    "\n",
    "    for i,(train_index, test_index) in enumerate(KFold(n_splits=5, shuffle=True, random_state=12345).split(dataindex2)):\n",
    "        train_idx,val_idx=train_test_split(train_index,train_size=0.75)\n",
    "        cv_splits[i]['train_set']=cv_splits[i]['train_set']+[mut[j] for j in train_idx]\n",
    "        cv_splits[i]['val_set']=cv_splits[i]['val_set']+[mut[j] for j in val_idx]\n",
    "        cv_splits[i]['test_set']=cv_splits[i]['test_set']+[mut[j] for j in test_index]\n",
    "\n",
    "    pickle.dump(cv_splits,open(\"./Gene_Mut/\"+file+\"/TCGA/CLUSTER1/\"+t_gene+\"/5fold_splits.pkl\",'wb'))\n",
    "\n",
    "\n"
   ],
   "metadata": {
    "collapsed": false,
    "pycharm": {
     "name": "#%%\n"
    }
   }
  }
 ],
 "metadata": {
  "kernelspec": {
   "display_name": "Python 3",
   "language": "python",
   "name": "python3"
  },
  "language_info": {
   "codemirror_mode": {
    "name": "ipython",
    "version": 2
   },
   "file_extension": ".py",
   "mimetype": "text/x-python",
   "name": "python",
   "nbconvert_exporter": "python",
   "pygments_lexer": "ipython2",
   "version": "2.7.6"
  }
 },
 "nbformat": 4,
 "nbformat_minor": 0
}